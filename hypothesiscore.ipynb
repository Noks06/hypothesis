{
 "cells": [
  {
   "cell_type": "markdown",
   "id": "4cec0303-58cb-4da1-a53f-4cbb70dd70d0",
   "metadata": {},
   "source": [
    "# Hypothesis Core \n",
    "Nokuthula Mchunu"
   ]
  },
  {
   "cell_type": "markdown",
   "id": "e5a99c26-1bbf-4b50-9343-38aee4fe99af",
   "metadata": {},
   "source": [
    "Use our hypothesis testing skills to answer the following questions:\n",
    "\n",
    "- Q1. Do smokers have higher insurance charges than non-smokers?\n",
    "- Q2. Are men more likely to smoke than women?\n",
    "- Q3. Do different regions have different charges, on average?\n",
    "\n",
    "\n",
    "\n",
    "For each question, make sure to:\n",
    "\n",
    "State your Null Hypothesis and Alternative Hypothesis\n",
    "Select the correct test according to the data type and number of samples\n",
    "Test the assumptions of your selected test.\n",
    "Execute the selected test, or the alternative test (if you do not meet the assumptions)\n",
    "Interpret your p-value and reject or fail to reject your null hypothesis \n",
    "Show a supporting visualization that helps display the result"
   ]
  },
  {
   "cell_type": "code",
   "execution_count": 3,
   "id": "5482ef08-6630-4ff7-8f95-b917b2c9b4d7",
   "metadata": {},
   "outputs": [],
   "source": [
    "import pandas as pd\n",
    "import numpy as np\n",
    "import matplotlib.pyplot as plt\n",
    "import seaborn as sns\n",
    "import scipy.stats as stats"
   ]
  },
  {
   "cell_type": "code",
   "execution_count": 5,
   "id": "00512c06-27a4-4686-b20a-cd990a333f9b",
   "metadata": {},
   "outputs": [
    {
     "data": {
      "text/html": [
       "<div>\n",
       "<style scoped>\n",
       "    .dataframe tbody tr th:only-of-type {\n",
       "        vertical-align: middle;\n",
       "    }\n",
       "\n",
       "    .dataframe tbody tr th {\n",
       "        vertical-align: top;\n",
       "    }\n",
       "\n",
       "    .dataframe thead th {\n",
       "        text-align: right;\n",
       "    }\n",
       "</style>\n",
       "<table border=\"1\" class=\"dataframe\">\n",
       "  <thead>\n",
       "    <tr style=\"text-align: right;\">\n",
       "      <th></th>\n",
       "      <th>age</th>\n",
       "      <th>sex</th>\n",
       "      <th>bmi</th>\n",
       "      <th>children</th>\n",
       "      <th>smoker</th>\n",
       "      <th>region</th>\n",
       "      <th>charges</th>\n",
       "    </tr>\n",
       "  </thead>\n",
       "  <tbody>\n",
       "    <tr>\n",
       "      <th>0</th>\n",
       "      <td>19</td>\n",
       "      <td>female</td>\n",
       "      <td>27.900</td>\n",
       "      <td>0</td>\n",
       "      <td>yes</td>\n",
       "      <td>southwest</td>\n",
       "      <td>16884.92400</td>\n",
       "    </tr>\n",
       "    <tr>\n",
       "      <th>1</th>\n",
       "      <td>18</td>\n",
       "      <td>male</td>\n",
       "      <td>33.770</td>\n",
       "      <td>1</td>\n",
       "      <td>no</td>\n",
       "      <td>southeast</td>\n",
       "      <td>1725.55230</td>\n",
       "    </tr>\n",
       "    <tr>\n",
       "      <th>2</th>\n",
       "      <td>28</td>\n",
       "      <td>male</td>\n",
       "      <td>33.000</td>\n",
       "      <td>3</td>\n",
       "      <td>no</td>\n",
       "      <td>southeast</td>\n",
       "      <td>4449.46200</td>\n",
       "    </tr>\n",
       "    <tr>\n",
       "      <th>3</th>\n",
       "      <td>33</td>\n",
       "      <td>male</td>\n",
       "      <td>22.705</td>\n",
       "      <td>0</td>\n",
       "      <td>no</td>\n",
       "      <td>northwest</td>\n",
       "      <td>21984.47061</td>\n",
       "    </tr>\n",
       "    <tr>\n",
       "      <th>4</th>\n",
       "      <td>32</td>\n",
       "      <td>male</td>\n",
       "      <td>28.880</td>\n",
       "      <td>0</td>\n",
       "      <td>no</td>\n",
       "      <td>northwest</td>\n",
       "      <td>3866.85520</td>\n",
       "    </tr>\n",
       "  </tbody>\n",
       "</table>\n",
       "</div>"
      ],
      "text/plain": [
       "   age     sex     bmi  children smoker     region      charges\n",
       "0   19  female  27.900         0    yes  southwest  16884.92400\n",
       "1   18    male  33.770         1     no  southeast   1725.55230\n",
       "2   28    male  33.000         3     no  southeast   4449.46200\n",
       "3   33    male  22.705         0     no  northwest  21984.47061\n",
       "4   32    male  28.880         0     no  northwest   3866.85520"
      ]
     },
     "execution_count": 5,
     "metadata": {},
     "output_type": "execute_result"
    }
   ],
   "source": [
    "# populating df\n",
    "url = '/Users/noksmchunu/Downloads/insurance - insurance.csv'\n",
    "df = pd.read_csv(url)\n",
    "df.head()\n"
   ]
  },
  {
   "cell_type": "markdown",
   "id": "e7d52482-5f09-4e2a-8693-b43f105ef292",
   "metadata": {},
   "source": [
    "## Q1. Do smokers have higher insurance charges than non-smokers?"
   ]
  },
  {
   "cell_type": "code",
   "execution_count": 6,
   "id": "a5d63c38-d80b-4eeb-82ad-11a9a8bccd2a",
   "metadata": {},
   "outputs": [
    {
     "data": {
      "text/plain": [
       "no     1064\n",
       "yes     274\n",
       "Name: smoker, dtype: int64"
      ]
     },
     "execution_count": 6,
     "metadata": {},
     "output_type": "execute_result"
    }
   ],
   "source": [
    "# Explore the data:\n",
    "# see how many with and without strength\n",
    "df['smoker'].value_counts()\n"
   ]
  },
  {
   "cell_type": "code",
   "execution_count": 9,
   "id": "c27bac03-0137-4aab-8163-b489175cda8b",
   "metadata": {},
   "outputs": [],
   "source": [
    "# Filtering out those who smoke and those who dont \n",
    "ssmoker_df = df.loc[df['smoker']== 'yes'].copy()\n",
    "non_smoker_df = df.loc[df['smoker']== 'no'].copy()\n"
   ]
  },
  {
   "cell_type": "code",
   "execution_count": 10,
   "id": "919fbf50-722d-42e2-b11e-8f0d0bd83748",
   "metadata": {},
   "outputs": [
    {
     "data": {
      "text/html": [
       "<div>\n",
       "<style scoped>\n",
       "    .dataframe tbody tr th:only-of-type {\n",
       "        vertical-align: middle;\n",
       "    }\n",
       "\n",
       "    .dataframe tbody tr th {\n",
       "        vertical-align: top;\n",
       "    }\n",
       "\n",
       "    .dataframe thead th {\n",
       "        text-align: right;\n",
       "    }\n",
       "</style>\n",
       "<table border=\"1\" class=\"dataframe\">\n",
       "  <thead>\n",
       "    <tr style=\"text-align: right;\">\n",
       "      <th></th>\n",
       "      <th>age</th>\n",
       "      <th>sex</th>\n",
       "      <th>bmi</th>\n",
       "      <th>children</th>\n",
       "      <th>smoker</th>\n",
       "      <th>region</th>\n",
       "      <th>charges</th>\n",
       "    </tr>\n",
       "  </thead>\n",
       "  <tbody>\n",
       "    <tr>\n",
       "      <th>0</th>\n",
       "      <td>19</td>\n",
       "      <td>female</td>\n",
       "      <td>27.90</td>\n",
       "      <td>0</td>\n",
       "      <td>yes</td>\n",
       "      <td>southwest</td>\n",
       "      <td>16884.9240</td>\n",
       "    </tr>\n",
       "    <tr>\n",
       "      <th>11</th>\n",
       "      <td>62</td>\n",
       "      <td>female</td>\n",
       "      <td>26.29</td>\n",
       "      <td>0</td>\n",
       "      <td>yes</td>\n",
       "      <td>southeast</td>\n",
       "      <td>27808.7251</td>\n",
       "    </tr>\n",
       "    <tr>\n",
       "      <th>14</th>\n",
       "      <td>27</td>\n",
       "      <td>male</td>\n",
       "      <td>42.13</td>\n",
       "      <td>0</td>\n",
       "      <td>yes</td>\n",
       "      <td>southeast</td>\n",
       "      <td>39611.7577</td>\n",
       "    </tr>\n",
       "    <tr>\n",
       "      <th>19</th>\n",
       "      <td>30</td>\n",
       "      <td>male</td>\n",
       "      <td>35.30</td>\n",
       "      <td>0</td>\n",
       "      <td>yes</td>\n",
       "      <td>southwest</td>\n",
       "      <td>36837.4670</td>\n",
       "    </tr>\n",
       "    <tr>\n",
       "      <th>23</th>\n",
       "      <td>34</td>\n",
       "      <td>female</td>\n",
       "      <td>31.92</td>\n",
       "      <td>1</td>\n",
       "      <td>yes</td>\n",
       "      <td>northeast</td>\n",
       "      <td>37701.8768</td>\n",
       "    </tr>\n",
       "  </tbody>\n",
       "</table>\n",
       "</div>"
      ],
      "text/plain": [
       "    age     sex    bmi  children smoker     region     charges\n",
       "0    19  female  27.90         0    yes  southwest  16884.9240\n",
       "11   62  female  26.29         0    yes  southeast  27808.7251\n",
       "14   27    male  42.13         0    yes  southeast  39611.7577\n",
       "19   30    male  35.30         0    yes  southwest  36837.4670\n",
       "23   34  female  31.92         1    yes  northeast  37701.8768"
      ]
     },
     "execution_count": 10,
     "metadata": {},
     "output_type": "execute_result"
    }
   ],
   "source": [
    "ssmoker_df.head()"
   ]
  },
  {
   "cell_type": "code",
   "execution_count": 12,
   "id": "3b537057-53c6-409c-b7ac-ea60680bae67",
   "metadata": {},
   "outputs": [],
   "source": [
    "#Define our feature of interest\n",
    "smoker_charge = ssmoker_df['charges']\n",
    "no_smoker_charge = non_smoker_df['charges']\n"
   ]
  },
  {
   "cell_type": "code",
   "execution_count": null,
   "id": "c5780b22-349a-4a45-9dfa-127a3d45e9fe",
   "metadata": {},
   "outputs": [],
   "source": []
  },
  {
   "cell_type": "code",
   "execution_count": 14,
   "id": "9dd92ef3-5d11-46f8-8f79-e2de22bf4e7c",
   "metadata": {},
   "outputs": [
    {
     "data": {
      "text/plain": [
       "0"
      ]
     },
     "execution_count": 14,
     "metadata": {},
     "output_type": "execute_result"
    }
   ],
   "source": [
    "# Check for outliers in charges for smoker group\n",
    "zscores= stats.zscore(smoker_charge)\n",
    "outliers = abs(zscores)>3\n",
    "np.sum(outliers)\n"
   ]
  },
  {
   "cell_type": "code",
   "execution_count": 15,
   "id": "1a753ebc-54d9-4248-a185-7a148fec0e53",
   "metadata": {},
   "outputs": [
    {
     "data": {
      "text/plain": [
       "24"
      ]
     },
     "execution_count": 15,
     "metadata": {},
     "output_type": "execute_result"
    }
   ],
   "source": [
    "# Check for outliers in charges for non-smoker group\n",
    "zscores= stats.zscore(no_smoker_charge)\n",
    "outliers = abs(zscores)>3\n",
    "np.sum(outliers)\n"
   ]
  },
  {
   "cell_type": "code",
   "execution_count": 17,
   "id": "2bc76961-dc61-4e0e-857c-94d612f3a8cc",
   "metadata": {},
   "outputs": [],
   "source": [
    "# remove outliers from non-smoker group\n",
    "no_smoker_charge = no_smoker_charge[(np.abs(stats.zscore(no_smoker_charge)) < 3)]\n"
   ]
  },
  {
   "cell_type": "markdown",
   "id": "f131b79d-ff53-49e2-86e0-1038190d3688",
   "metadata": {},
   "source": [
    "Check for Normality"
   ]
  },
  {
   "cell_type": "code",
   "execution_count": 18,
   "id": "e323f767-8117-479b-ac2f-0534d01bcf91",
   "metadata": {},
   "outputs": [
    {
     "data": {
      "text/plain": [
       "NormaltestResult(statistic=61.03941356533816, pvalue=5.564930630036462e-14)"
      ]
     },
     "execution_count": 18,
     "metadata": {},
     "output_type": "execute_result"
    }
   ],
   "source": [
    "# test the smoker group for normality\n",
    "result_smoker_charge = stats.normaltest(smoker_charge)\n",
    "result_smoker_charge"
   ]
  },
  {
   "cell_type": "code",
   "execution_count": 19,
   "id": "c8564503-3c23-44cb-8fab-36a11e7763ad",
   "metadata": {},
   "outputs": [
    {
     "data": {
      "text/plain": [
       "NormaltestResult(statistic=70.72942109230829, pvalue=4.3782580585265917e-16)"
      ]
     },
     "execution_count": 19,
     "metadata": {},
     "output_type": "execute_result"
    }
   ],
   "source": [
    "# test the non - smoker group for normality\n",
    "result_no_smoker_charge = stats.normaltest(no_smoker_charge)\n",
    "result_no_smoker_charge\n"
   ]
  },
  {
   "cell_type": "markdown",
   "id": "3865185f-56b4-4d0e-ab99-3b281a136451",
   "metadata": {},
   "source": [
    "Our p-values for both groups are well below 0.05, which means our data is NOT normally distributed"
   ]
  },
  {
   "cell_type": "code",
   "execution_count": 20,
   "id": "914adaf1-2d33-4106-973b-59bbbefb2f70",
   "metadata": {},
   "outputs": [
    {
     "data": {
      "text/plain": [
       "LeveneResult(statistic=672.9614970899742, pvalue=8.51943690683427e-120)"
      ]
     },
     "execution_count": 20,
     "metadata": {},
     "output_type": "execute_result"
    }
   ],
   "source": [
    "# Test for equal variance\n",
    "result = stats.levene(smoker_charge, no_smoker_charge)\n",
    "result"
   ]
  },
  {
   "cell_type": "markdown",
   "id": "0d933e4c-be68-4965-94b1-dafbe1c1eb0f",
   "metadata": {},
   "source": [
    "Our p-value < alpha (0.05), so we reject the null hypothesis and accept that there is a significant difference between the charges of smoker and non smoker."
   ]
  },
  {
   "cell_type": "markdown",
   "id": "709d72dd-c79c-4aad-81b6-9f03cf330256",
   "metadata": {},
   "source": [
    "## Q2. Are men more likely to smoke than women?"
   ]
  },
  {
   "cell_type": "code",
   "execution_count": null,
   "id": "74525222-0c10-42af-a447-12d1e98a6874",
   "metadata": {},
   "outputs": [],
   "source": []
  },
  {
   "cell_type": "markdown",
   "id": "a672de82-1007-49bc-b828-9caa265fe077",
   "metadata": {},
   "source": [
    " ## - Q3. Do different regions have different charges, on average?"
   ]
  },
  {
   "cell_type": "markdown",
   "id": "0a4d5f41-9f44-455d-860d-c6f3151a130a",
   "metadata": {},
   "source": [
    "The null hypothesis for ANOVA is that all group's means are the same. (There is no statistical difference between groups.)\n",
    "\n",
    "The alternate hypothesis is that there is a difference in group's means. (There is a statistical difference between groups.)\n",
    "\n",
    "One Way ANOVA\n",
    "\n",
    "Normality\n",
    "Equal variance\n",
    "No significant outliers"
   ]
  },
  {
   "cell_type": "code",
   "execution_count": 22,
   "id": "a2976deb-25d6-4b9d-b0e8-0ba809fb84eb",
   "metadata": {},
   "outputs": [
    {
     "data": {
      "image/png": "[encoded data removed]",
      "text/plain": [
       "<Figure size 640x480 with 1 Axes>"
      ]
     },
     "metadata": {},
     "output_type": "display_data"
    }
   ],
   "source": [
    "sns.barplot(data=df, x='region',y='charges');\n"
   ]
  },
  {
   "cell_type": "markdown",
   "id": "eaaed37b-ea8d-44b5-a244-aee3f33376cd",
   "metadata": {},
   "source": [
    "Hypothesis\n",
    "\n",
    "Null Hypothesis:  Different regions all have the same charges. \n",
    "\n",
    "Alternative Hypothesis: Different regions have different charges. \n",
    "\n",
    "Using an alpha=.05\n",
    "\n",
    "Note that our hypothesis does NOT specify which groups are different, just that there is or isn't a difference when taking all three into consideration."
   ]
  },
  {
   "cell_type": "code",
   "execution_count": 23,
   "id": "72fc6c15-21ef-46b0-b512-e2e00d8ab7dd",
   "metadata": {},
   "outputs": [
    {
     "data": {
      "text/plain": [
       "dict_keys(['southwest', 'southeast', 'northwest', 'northeast'])"
      ]
     },
     "execution_count": 23,
     "metadata": {},
     "output_type": "execute_result"
    }
   ],
   "source": [
    "## Create groups dictionary. There are only 3 groups, but this is even more helpful when there are many groups\n",
    "regions = {}\n",
    "## Loop through all unique categories\n",
    "for i in df['region'].unique():\n",
    "    ## Get series for group and rename\n",
    "    data = df.loc[df['region']==i,'charges'].copy()\n",
    "    \n",
    "    # save into the dictionary\n",
    "    regions[i] = data\n",
    "regions.keys()\n"
   ]
  },
  {
   "cell_type": "markdown",
   "id": "6a6f0aca-3630-46b4-940f-40e321f5f9e8",
   "metadata": {},
   "source": [
    "### Testing Assumptions"
   ]
  },
  {
   "cell_type": "code",
   "execution_count": 24,
   "id": "a9d3ab2e-47d2-435d-9ac6-9d1b631fc607",
   "metadata": {},
   "outputs": [
    {
     "data": {
      "text/html": [
       "<div>\n",
       "<style scoped>\n",
       "    .dataframe tbody tr th:only-of-type {\n",
       "        vertical-align: middle;\n",
       "    }\n",
       "\n",
       "    .dataframe tbody tr th {\n",
       "        vertical-align: top;\n",
       "    }\n",
       "\n",
       "    .dataframe thead th {\n",
       "        text-align: right;\n",
       "    }\n",
       "</style>\n",
       "<table border=\"1\" class=\"dataframe\">\n",
       "  <thead>\n",
       "    <tr style=\"text-align: right;\">\n",
       "      <th></th>\n",
       "      <th>n</th>\n",
       "      <th>p</th>\n",
       "      <th>test stat</th>\n",
       "    </tr>\n",
       "  </thead>\n",
       "  <tbody>\n",
       "    <tr>\n",
       "      <th>southwest</th>\n",
       "      <td>325.0</td>\n",
       "      <td>6.125298e-23</td>\n",
       "      <td>102.294059</td>\n",
       "    </tr>\n",
       "    <tr>\n",
       "      <th>southeast</th>\n",
       "      <td>364.0</td>\n",
       "      <td>4.953297e-15</td>\n",
       "      <td>65.877446</td>\n",
       "    </tr>\n",
       "    <tr>\n",
       "      <th>northwest</th>\n",
       "      <td>325.0</td>\n",
       "      <td>5.184209e-24</td>\n",
       "      <td>107.232850</td>\n",
       "    </tr>\n",
       "    <tr>\n",
       "      <th>northeast</th>\n",
       "      <td>324.0</td>\n",
       "      <td>1.455431e-19</td>\n",
       "      <td>86.747629</td>\n",
       "    </tr>\n",
       "  </tbody>\n",
       "</table>\n",
       "</div>"
      ],
      "text/plain": [
       "               n             p   test stat\n",
       "southwest  325.0  6.125298e-23  102.294059\n",
       "southeast  364.0  4.953297e-15   65.877446\n",
       "northwest  325.0  5.184209e-24  107.232850\n",
       "northeast  324.0  1.455431e-19   86.747629"
      ]
     },
     "execution_count": 24,
     "metadata": {},
     "output_type": "execute_result"
    }
   ],
   "source": [
    "## Running normal test on each group and confirming there are >20 in each group\n",
    "norm_results = {}\n",
    "for i, data in regions.items():\n",
    "    stat, p = stats.normaltest(data)\n",
    "    ## save the p val, test statistic, and the size of the group\n",
    "    norm_results[i] = {'n': len(data),\n",
    "                             'p':p,\n",
    "                             'test stat':stat,}\n",
    "## convert to a dataframe\n",
    "norm_results_df = pd.DataFrame(norm_results).T\n",
    "norm_results_df"
   ]
  },
  {
   "cell_type": "code",
   "execution_count": 25,
   "id": "d39d19b4-eed1-49f5-a99f-d3355ead2a1f",
   "metadata": {},
   "outputs": [
    {
     "data": {
      "text/html": [
       "<div>\n",
       "<style scoped>\n",
       "    .dataframe tbody tr th:only-of-type {\n",
       "        vertical-align: middle;\n",
       "    }\n",
       "\n",
       "    .dataframe tbody tr th {\n",
       "        vertical-align: top;\n",
       "    }\n",
       "\n",
       "    .dataframe thead th {\n",
       "        text-align: right;\n",
       "    }\n",
       "</style>\n",
       "<table border=\"1\" class=\"dataframe\">\n",
       "  <thead>\n",
       "    <tr style=\"text-align: right;\">\n",
       "      <th></th>\n",
       "      <th>n</th>\n",
       "      <th>p</th>\n",
       "      <th>test stat</th>\n",
       "      <th>sig</th>\n",
       "    </tr>\n",
       "  </thead>\n",
       "  <tbody>\n",
       "    <tr>\n",
       "      <th>southwest</th>\n",
       "      <td>325.0</td>\n",
       "      <td>6.125298e-23</td>\n",
       "      <td>102.294059</td>\n",
       "      <td>True</td>\n",
       "    </tr>\n",
       "    <tr>\n",
       "      <th>southeast</th>\n",
       "      <td>364.0</td>\n",
       "      <td>4.953297e-15</td>\n",
       "      <td>65.877446</td>\n",
       "      <td>True</td>\n",
       "    </tr>\n",
       "    <tr>\n",
       "      <th>northwest</th>\n",
       "      <td>325.0</td>\n",
       "      <td>5.184209e-24</td>\n",
       "      <td>107.232850</td>\n",
       "      <td>True</td>\n",
       "    </tr>\n",
       "    <tr>\n",
       "      <th>northeast</th>\n",
       "      <td>324.0</td>\n",
       "      <td>1.455431e-19</td>\n",
       "      <td>86.747629</td>\n",
       "      <td>True</td>\n",
       "    </tr>\n",
       "  </tbody>\n",
       "</table>\n",
       "</div>"
      ],
      "text/plain": [
       "               n             p   test stat   sig\n",
       "southwest  325.0  6.125298e-23  102.294059  True\n",
       "southeast  364.0  4.953297e-15   65.877446  True\n",
       "northwest  325.0  5.184209e-24  107.232850  True\n",
       "northeast  324.0  1.455431e-19   86.747629  True"
      ]
     },
     "execution_count": 25,
     "metadata": {},
     "output_type": "execute_result"
    }
   ],
   "source": [
    "### checking sig with pandas \n",
    "norm_results_df['sig'] = norm_results_df['p'] < .05 \n",
    "norm_results_df\n"
   ]
  },
  {
   "cell_type": "markdown",
   "id": "a5f3d534-fea4-4ef4-bb0c-0b1a70a117c8",
   "metadata": {},
   "source": [
    "group has distribution that is not normal."
   ]
  },
  {
   "cell_type": "markdown",
   "id": "17185ee5-0b9f-4b6c-88b5-97724bed4392",
   "metadata": {},
   "source": [
    "### Testing Assumption of Equal Variance"
   ]
  },
  {
   "cell_type": "code",
   "execution_count": 27,
   "id": "e3d18194-b35a-404a-8453-5e86ded98f38",
   "metadata": {},
   "outputs": [
    {
     "data": {
      "text/plain": [
       "LeveneResult(statistic=5.559966758410606, pvalue=0.0008610590250782834)"
      ]
     },
     "execution_count": 27,
     "metadata": {},
     "output_type": "execute_result"
    }
   ],
   "source": [
    "# with the * operator \n",
    "stats.levene(*regions.values())"
   ]
  },
  {
   "cell_type": "markdown",
   "id": "84db681f-7a11-4fd1-bc70-1d1ad8392ce1",
   "metadata": {},
   "source": [
    "One-Way ANOVA Test"
   ]
  },
  {
   "cell_type": "code",
   "execution_count": 28,
   "id": "7df0c5b2-e05f-49af-abbb-7a26948b3ee4",
   "metadata": {},
   "outputs": [
    {
     "data": {
      "text/plain": [
       "F_onewayResult(statistic=2.96962669358912, pvalue=0.030893356070506986)"
      ]
     },
     "execution_count": 28,
     "metadata": {},
     "output_type": "execute_result"
    }
   ],
   "source": [
    "# perform the correct hypothesis test\n",
    "# note again the use of the * operator for convenience\n",
    "result = stats.f_oneway( *regions.values())\n",
    "result\n"
   ]
  },
  {
   "cell_type": "markdown",
   "id": "d21bf2b8-efd4-4c35-b02e-81c93996fdf1",
   "metadata": {},
   "source": [
    "Tukey's Pairwise Multiple Comparisons Test"
   ]
  },
  {
   "cell_type": "code",
   "execution_count": 30,
   "id": "6a45791b-096a-40c9-b4de-87c3090dc31c",
   "metadata": {},
   "outputs": [],
   "source": [
    "from statsmodels.stats.multicomp import pairwise_tukeyhsd\n",
    "## save the values as kg_lost and the labels to the Diet\n",
    "values = df['charges']\n",
    "labels = df['region']\n"
   ]
  },
  {
   "cell_type": "code",
   "execution_count": 31,
   "id": "1a3858e6-e39e-4114-9a8c-11fea5696ced",
   "metadata": {},
   "outputs": [
    {
     "data": {
      "text/html": [
       "<table class=\"simpletable\">\n",
       "<caption>Multiple Comparison of Means - Tukey HSD, FWER=0.05</caption>\n",
       "<tr>\n",
       "   <th>group1</th>    <th>group2</th>    <th>meandiff</th>   <th>p-adj</th>    <th>lower</th>     <th>upper</th>   <th>reject</th>\n",
       "</tr>\n",
       "<tr>\n",
       "  <td>northeast</td> <td>northwest</td>  <td>-988.8091</td> <td>0.7245</td> <td>-3428.9343</td> <td>1451.3161</td>  <td>False</td>\n",
       "</tr>\n",
       "<tr>\n",
       "  <td>northeast</td> <td>southeast</td>  <td>1329.0269</td> <td>0.4745</td> <td>-1044.9417</td> <td>3702.9955</td>  <td>False</td>\n",
       "</tr>\n",
       "<tr>\n",
       "  <td>northeast</td> <td>southwest</td> <td>-1059.4471</td> <td>0.6792</td> <td>-3499.5723</td> <td>1380.6781</td>  <td>False</td>\n",
       "</tr>\n",
       "<tr>\n",
       "  <td>northwest</td> <td>southeast</td>  <td>2317.8361</td> <td>0.0583</td>  <td>-54.1994</td>  <td>4689.8716</td>  <td>False</td>\n",
       "</tr>\n",
       "<tr>\n",
       "  <td>northwest</td> <td>southwest</td>   <td>-70.638</td>  <td>0.9999</td> <td>-2508.8826</td> <td>2367.6066</td>  <td>False</td>\n",
       "</tr>\n",
       "<tr>\n",
       "  <td>southeast</td> <td>southwest</td> <td>-2388.4741</td> <td>0.0477</td> <td>-4760.5096</td> <td>-16.4386</td>   <td>True</td> \n",
       "</tr>\n",
       "</table>"
      ],
      "text/latex": [
       "\\begin{center}\n",
       "\\begin{tabular}{ccccccc}\n",
       "\\toprule\n",
       "\\textbf{group1} & \\textbf{group2} & \\textbf{meandiff} & \\textbf{p-adj} & \\textbf{lower} & \\textbf{upper} & \\textbf{reject}  \\\\\n",
       "\\midrule\n",
       "   northeast    &    northwest    &     -988.8091     &     0.7245     &   -3428.9343   &   1451.3161    &      False       \\\\\n",
       "   northeast    &    southeast    &     1329.0269     &     0.4745     &   -1044.9417   &   3702.9955    &      False       \\\\\n",
       "   northeast    &    southwest    &     -1059.4471    &     0.6792     &   -3499.5723   &   1380.6781    &      False       \\\\\n",
       "   northwest    &    southeast    &     2317.8361     &     0.0583     &    -54.1994    &   4689.8716    &      False       \\\\\n",
       "   northwest    &    southwest    &      -70.638      &     0.9999     &   -2508.8826   &   2367.6066    &      False       \\\\\n",
       "   southeast    &    southwest    &     -2388.4741    &     0.0477     &   -4760.5096   &    -16.4386    &       True       \\\\\n",
       "\\bottomrule\n",
       "\\end{tabular}\n",
       "%\\caption{Multiple Comparison of Means - Tukey HSD, FWER=0.05}\n",
       "\\end{center}"
      ],
      "text/plain": [
       "<class 'statsmodels.iolib.table.SimpleTable'>"
      ]
     },
     "execution_count": 31,
     "metadata": {},
     "output_type": "execute_result"
    }
   ],
   "source": [
    "## perform tukey's multiple comparison test and display the summary\n",
    "tukeys_results = pairwise_tukeyhsd(values,labels)\n",
    "tukeys_results.summary()\n"
   ]
  },
  {
   "cell_type": "code",
   "execution_count": null,
   "id": "9a0bc7a7-0fb4-48a6-a7a1-60638feefe99",
   "metadata": {},
   "outputs": [],
   "source": []
  }
 ],
 "metadata": {
  "kernelspec": {
   "display_name": "Python 3 (ipykernel)",
   "language": "python",
   "name": "python3"
  },
  "language_info": {
   "codemirror_mode": {
    "name": "ipython",
    "version": 3
   },
   "file_extension": ".py",
   "mimetype": "text/x-python",
   "name": "python",
   "nbconvert_exporter": "python",
   "pygments_lexer": "ipython3",
   "version": "3.10.10"
  },
  "widgets": {
   "application/vnd.jupyter.widget-state+json": {
    "state": {},
    "version_major": 2,
    "version_minor": 0
   }
  }
 },
 "nbformat": 4,
 "nbformat_minor": 5
}
