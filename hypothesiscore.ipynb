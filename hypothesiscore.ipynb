{
 "cells": [
  {
   "cell_type": "markdown",
   "id": "4cec0303-58cb-4da1-a53f-4cbb70dd70d0",
   "metadata": {},
   "source": [
    "# Hypothesis Core \n",
    "Nokuthula Mchunu"
   ]
  },
  {
   "cell_type": "markdown",
   "id": "e5a99c26-1bbf-4b50-9343-38aee4fe99af",
   "metadata": {},
   "source": [
    "Use our hypothesis testing skills to answer the following questions:\n",
    "\n",
    "- Q1. Do smokers have higher insurance charges than non-smokers?\n",
    "- Q2. Are men more likely to smoke than women?\n",
    "- Q3. Do different regions have different charges, on average?\n",
    "\n",
    "\n",
    "\n",
    "For each question, make sure to:\n",
    "\n",
    "State your Null Hypothesis and Alternative Hypothesis\n",
    "Select the correct test according to the data type and number of samples\n",
    "Test the assumptions of your selected test.\n",
    "Execute the selected test, or the alternative test (if you do not meet the assumptions)\n",
    "Interpret your p-value and reject or fail to reject your null hypothesis \n",
    "Show a supporting visualization that helps display the result"
   ]
  },
  {
   "cell_type": "code",
   "execution_count": 3,
   "id": "5482ef08-6630-4ff7-8f95-b917b2c9b4d7",
   "metadata": {},
   "outputs": [],
   "source": [
    "import pandas as pd\n",
    "import numpy as np\n",
    "import matplotlib.pyplot as plt\n",
    "import seaborn as sns\n",
    "import scipy.stats as stats"
   ]
  },
  {
   "cell_type": "code",
   "execution_count": 5,
   "id": "00512c06-27a4-4686-b20a-cd990a333f9b",
   "metadata": {},
   "outputs": [
    {
     "data": {
      "text/html": [
       "<div>\n",
       "<style scoped>\n",
       "    .dataframe tbody tr th:only-of-type {\n",
       "        vertical-align: middle;\n",
       "    }\n",
       "\n",
       "    .dataframe tbody tr th {\n",
       "        vertical-align: top;\n",
       "    }\n",
       "\n",
       "    .dataframe thead th {\n",
       "        text-align: right;\n",
       "    }\n",
       "</style>\n",
       "<table border=\"1\" class=\"dataframe\">\n",
       "  <thead>\n",
       "    <tr style=\"text-align: right;\">\n",
       "      <th></th>\n",
       "      <th>age</th>\n",
       "      <th>sex</th>\n",
       "      <th>bmi</th>\n",
       "      <th>children</th>\n",
       "      <th>smoker</th>\n",
       "      <th>region</th>\n",
       "      <th>charges</th>\n",
       "    </tr>\n",
       "  </thead>\n",
       "  <tbody>\n",
       "    <tr>\n",
       "      <th>0</th>\n",
       "      <td>19</td>\n",
       "      <td>female</td>\n",
       "      <td>27.900</td>\n",
       "      <td>0</td>\n",
       "      <td>yes</td>\n",
       "      <td>southwest</td>\n",
       "      <td>16884.92400</td>\n",
       "    </tr>\n",
       "    <tr>\n",
       "      <th>1</th>\n",
       "      <td>18</td>\n",
       "      <td>male</td>\n",
       "      <td>33.770</td>\n",
       "      <td>1</td>\n",
       "      <td>no</td>\n",
       "      <td>southeast</td>\n",
       "      <td>1725.55230</td>\n",
       "    </tr>\n",
       "    <tr>\n",
       "      <th>2</th>\n",
       "      <td>28</td>\n",
       "      <td>male</td>\n",
       "      <td>33.000</td>\n",
       "      <td>3</td>\n",
       "      <td>no</td>\n",
       "      <td>southeast</td>\n",
       "      <td>4449.46200</td>\n",
       "    </tr>\n",
       "    <tr>\n",
       "      <th>3</th>\n",
       "      <td>33</td>\n",
       "      <td>male</td>\n",
       "      <td>22.705</td>\n",
       "      <td>0</td>\n",
       "      <td>no</td>\n",
       "      <td>northwest</td>\n",
       "      <td>21984.47061</td>\n",
       "    </tr>\n",
       "    <tr>\n",
       "      <th>4</th>\n",
       "      <td>32</td>\n",
       "      <td>male</td>\n",
       "      <td>28.880</td>\n",
       "      <td>0</td>\n",
       "      <td>no</td>\n",
       "      <td>northwest</td>\n",
       "      <td>3866.85520</td>\n",
       "    </tr>\n",
       "  </tbody>\n",
       "</table>\n",
       "</div>"
      ],
      "text/plain": [
       "   age     sex     bmi  children smoker     region      charges\n",
       "0   19  female  27.900         0    yes  southwest  16884.92400\n",
       "1   18    male  33.770         1     no  southeast   1725.55230\n",
       "2   28    male  33.000         3     no  southeast   4449.46200\n",
       "3   33    male  22.705         0     no  northwest  21984.47061\n",
       "4   32    male  28.880         0     no  northwest   3866.85520"
      ]
     },
     "execution_count": 5,
     "metadata": {},
     "output_type": "execute_result"
    }
   ],
   "source": [
    "# populating df\n",
    "url = '/Users/noksmchunu/Downloads/insurance - insurance.csv'\n",
    "df = pd.read_csv(url)\n",
    "df.head()\n"
   ]
  },
  {
   "cell_type": "markdown",
   "id": "e7d52482-5f09-4e2a-8693-b43f105ef292",
   "metadata": {},
   "source": [
    "## Q1. Do smokers have higher insurance charges than non-smokers?"
   ]
  },
  {
   "cell_type": "code",
   "execution_count": 6,
   "id": "a5d63c38-d80b-4eeb-82ad-11a9a8bccd2a",
   "metadata": {},
   "outputs": [
    {
     "data": {
      "text/plain": [
       "no     1064\n",
       "yes     274\n",
       "Name: smoker, dtype: int64"
      ]
     },
     "execution_count": 6,
     "metadata": {},
     "output_type": "execute_result"
    }
   ],
   "source": [
    "# Explore the data:\n",
    "# see how many with and without strength\n",
    "df['smoker'].value_counts()\n"
   ]
  },
  {
   "cell_type": "code",
   "execution_count": 9,
   "id": "c27bac03-0137-4aab-8163-b489175cda8b",
   "metadata": {},
   "outputs": [],
   "source": [
    "# Filtering out those who smoke and those who dont \n",
    "ssmoker_df = df.loc[df['smoker']== 'yes'].copy()\n",
    "non_smoker_df = df.loc[df['smoker']== 'no'].copy()\n"
   ]
  },
  {
   "cell_type": "code",
   "execution_count": 10,
   "id": "919fbf50-722d-42e2-b11e-8f0d0bd83748",
   "metadata": {},
   "outputs": [
    {
     "data": {
      "text/html": [
       "<div>\n",
       "<style scoped>\n",
       "    .dataframe tbody tr th:only-of-type {\n",
       "        vertical-align: middle;\n",
       "    }\n",
       "\n",
       "    .dataframe tbody tr th {\n",
       "        vertical-align: top;\n",
       "    }\n",
       "\n",
       "    .dataframe thead th {\n",
       "        text-align: right;\n",
       "    }\n",
       "</style>\n",
       "<table border=\"1\" class=\"dataframe\">\n",
       "  <thead>\n",
       "    <tr style=\"text-align: right;\">\n",
       "      <th></th>\n",
       "      <th>age</th>\n",
       "      <th>sex</th>\n",
       "      <th>bmi</th>\n",
       "      <th>children</th>\n",
       "      <th>smoker</th>\n",
       "      <th>region</th>\n",
       "      <th>charges</th>\n",
       "    </tr>\n",
       "  </thead>\n",
       "  <tbody>\n",
       "    <tr>\n",
       "      <th>0</th>\n",
       "      <td>19</td>\n",
       "      <td>female</td>\n",
       "      <td>27.90</td>\n",
       "      <td>0</td>\n",
       "      <td>yes</td>\n",
       "      <td>southwest</td>\n",
       "      <td>16884.9240</td>\n",
       "    </tr>\n",
       "    <tr>\n",
       "      <th>11</th>\n",
       "      <td>62</td>\n",
       "      <td>female</td>\n",
       "      <td>26.29</td>\n",
       "      <td>0</td>\n",
       "      <td>yes</td>\n",
       "      <td>southeast</td>\n",
       "      <td>27808.7251</td>\n",
       "    </tr>\n",
       "    <tr>\n",
       "      <th>14</th>\n",
       "      <td>27</td>\n",
       "      <td>male</td>\n",
       "      <td>42.13</td>\n",
       "      <td>0</td>\n",
       "      <td>yes</td>\n",
       "      <td>southeast</td>\n",
       "      <td>39611.7577</td>\n",
       "    </tr>\n",
       "    <tr>\n",
       "      <th>19</th>\n",
       "      <td>30</td>\n",
       "      <td>male</td>\n",
       "      <td>35.30</td>\n",
       "      <td>0</td>\n",
       "      <td>yes</td>\n",
       "      <td>southwest</td>\n",
       "      <td>36837.4670</td>\n",
       "    </tr>\n",
       "    <tr>\n",
       "      <th>23</th>\n",
       "      <td>34</td>\n",
       "      <td>female</td>\n",
       "      <td>31.92</td>\n",
       "      <td>1</td>\n",
       "      <td>yes</td>\n",
       "      <td>northeast</td>\n",
       "      <td>37701.8768</td>\n",
       "    </tr>\n",
       "  </tbody>\n",
       "</table>\n",
       "</div>"
      ],
      "text/plain": [
       "    age     sex    bmi  children smoker     region     charges\n",
       "0    19  female  27.90         0    yes  southwest  16884.9240\n",
       "11   62  female  26.29         0    yes  southeast  27808.7251\n",
       "14   27    male  42.13         0    yes  southeast  39611.7577\n",
       "19   30    male  35.30         0    yes  southwest  36837.4670\n",
       "23   34  female  31.92         1    yes  northeast  37701.8768"
      ]
     },
     "execution_count": 10,
     "metadata": {},
     "output_type": "execute_result"
    }
   ],
   "source": [
    "ssmoker_df.head()"
   ]
  },
  {
   "cell_type": "code",
   "execution_count": 12,
   "id": "3b537057-53c6-409c-b7ac-ea60680bae67",
   "metadata": {},
   "outputs": [],
   "source": [
    "#Define our feature of interest\n",
    "smoker_charge = ssmoker_df['charges']\n",
    "no_smoker_charge = non_smoker_df['charges']\n"
   ]
  },
  {
   "cell_type": "code",
   "execution_count": null,
   "id": "c5780b22-349a-4a45-9dfa-127a3d45e9fe",
   "metadata": {},
   "outputs": [],
   "source": []
  },
  {
   "cell_type": "code",
   "execution_count": 14,
   "id": "9dd92ef3-5d11-46f8-8f79-e2de22bf4e7c",
   "metadata": {},
   "outputs": [
    {
     "data": {
      "text/plain": [
       "0"
      ]
     },
     "execution_count": 14,
     "metadata": {},
     "output_type": "execute_result"
    }
   ],
   "source": [
    "# Check for outliers in charges for smoker group\n",
    "zscores= stats.zscore(smoker_charge)\n",
    "outliers = abs(zscores)>3\n",
    "np.sum(outliers)\n"
   ]
  },
  {
   "cell_type": "code",
   "execution_count": 15,
   "id": "1a753ebc-54d9-4248-a185-7a148fec0e53",
   "metadata": {},
   "outputs": [
    {
     "data": {
      "text/plain": [
       "24"
      ]
     },
     "execution_count": 15,
     "metadata": {},
     "output_type": "execute_result"
    }
   ],
   "source": [
    "# Check for outliers in charges for non-smoker group\n",
    "zscores= stats.zscore(no_smoker_charge)\n",
    "outliers = abs(zscores)>3\n",
    "np.sum(outliers)\n"
   ]
  },
  {
   "cell_type": "code",
   "execution_count": 17,
   "id": "2bc76961-dc61-4e0e-857c-94d612f3a8cc",
   "metadata": {},
   "outputs": [],
   "source": [
    "# remove outliers from non-smoker group\n",
    "no_smoker_charge = no_smoker_charge[(np.abs(stats.zscore(no_smoker_charge)) < 3)]\n"
   ]
  },
  {
   "cell_type": "markdown",
   "id": "f131b79d-ff53-49e2-86e0-1038190d3688",
   "metadata": {},
   "source": [
    "Check for Normality"
   ]
  },
  {
   "cell_type": "code",
   "execution_count": 18,
   "id": "e323f767-8117-479b-ac2f-0534d01bcf91",
   "metadata": {},
   "outputs": [
    {
     "data": {
      "text/plain": [
       "NormaltestResult(statistic=61.03941356533816, pvalue=5.564930630036462e-14)"
      ]
     },
     "execution_count": 18,
     "metadata": {},
     "output_type": "execute_result"
    }
   ],
   "source": [
    "# test the smoker group for normality\n",
    "result_smoker_charge = stats.normaltest(smoker_charge)\n",
    "result_smoker_charge"
   ]
  },
  {
   "cell_type": "code",
   "execution_count": 19,
   "id": "c8564503-3c23-44cb-8fab-36a11e7763ad",
   "metadata": {},
   "outputs": [
    {
     "data": {
      "text/plain": [
       "NormaltestResult(statistic=70.72942109230829, pvalue=4.3782580585265917e-16)"
      ]
     },
     "execution_count": 19,
     "metadata": {},
     "output_type": "execute_result"
    }
   ],
   "source": [
    "# test the non - smoker group for normality\n",
    "result_no_smoker_charge = stats.normaltest(no_smoker_charge)\n",
    "result_no_smoker_charge\n"
   ]
  },
  {
   "cell_type": "markdown",
   "id": "3865185f-56b4-4d0e-ab99-3b281a136451",
   "metadata": {},
   "source": [
    "Our p-values for both groups are well below 0.05, which means our data is NOT normally distributed"
   ]
  },
  {
   "cell_type": "code",
   "execution_count": 20,
   "id": "914adaf1-2d33-4106-973b-59bbbefb2f70",
   "metadata": {},
   "outputs": [
    {
     "data": {
      "text/plain": [
       "LeveneResult(statistic=672.9614970899742, pvalue=8.51943690683427e-120)"
      ]
     },
     "execution_count": 20,
     "metadata": {},
     "output_type": "execute_result"
    }
   ],
   "source": [
    "# Test for equal variance\n",
    "result = stats.levene(smoker_charge, no_smoker_charge)\n",
    "result"
   ]
  },
  {
   "cell_type": "markdown",
   "id": "0d933e4c-be68-4965-94b1-dafbe1c1eb0f",
   "metadata": {},
   "source": [
    "Our p-value < alpha (0.05), so we reject the null hypothesis and accept that there is a significant difference between the charges of smoker and non smoker."
   ]
  },
  {
   "cell_type": "markdown",
   "id": "709d72dd-c79c-4aad-81b6-9f03cf330256",
   "metadata": {},
   "source": [
    "## Q2. Are men more likely to smoke than women?"
   ]
  },
  {
   "cell_type": "code",
   "execution_count": null,
   "id": "74525222-0c10-42af-a447-12d1e98a6874",
   "metadata": {},
   "outputs": [],
   "source": []
  }
 ],
 "metadata": {
  "kernelspec": {
   "display_name": "Python 3 (ipykernel)",
   "language": "python",
   "name": "python3"
  },
  "language_info": {
   "codemirror_mode": {
    "name": "ipython",
    "version": 3
   },
   "file_extension": ".py",
   "mimetype": "text/x-python",
   "name": "python",
   "nbconvert_exporter": "python",
   "pygments_lexer": "ipython3",
   "version": "3.10.10"
  },
  "widgets": {
   "application/vnd.jupyter.widget-state+json": {
    "state": {},
    "version_major": 2,
    "version_minor": 0
   }
  }
 },
 "nbformat": 4,
 "nbformat_minor": 5
}
